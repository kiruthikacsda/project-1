{
  "nbformat": 4,
  "nbformat_minor": 0,
  "metadata": {
    "colab": {
      "provenance": [],
      "authorship_tag": "ABX9TyPkZNHgVibTyKmsAKnLtrzY",
      "include_colab_link": true
    },
    "kernelspec": {
      "name": "python3",
      "display_name": "Python 3"
    },
    "language_info": {
      "name": "python"
    }
  },
  "cells": [
    {
      "cell_type": "markdown",
      "metadata": {
        "id": "view-in-github",
        "colab_type": "text"
      },
      "source": [
        "<a href=\"https://colab.research.google.com/github/kiruthikacsda/project-1/blob/main/python_Excersice_1%2C_2_.ipynb\" target=\"_parent\"><img src=\"https://colab.research.google.com/assets/colab-badge.svg\" alt=\"Open In Colab\"/></a>"
      ]
    },
    {
      "cell_type": "code",
      "execution_count": 7,
      "metadata": {
        "colab": {
          "base_uri": "https://localhost:8080/"
        },
        "id": "Z5-nPeL74iAY",
        "outputId": "22608f06-eca5-4fe6-b5f3-ddf1ca228293"
      },
      "outputs": [
        {
          "output_type": "stream",
          "name": "stdout",
          "text": [
            "Weekly Pay: Rs14800\n",
            "Monthly Income: Rs59200\n",
            "Annual Income: Rs769600\n"
          ]
        }
      ],
      "source": [
        "hourly_rate = 250\n",
        "overtime_rate = 100\n",
        "standard_hours_week = 48\n",
        "worked_hours_week = 56\n",
        "extra_hours_week = worked_hours_week - standard_hours_week\n",
        "if extra_hours_week > 0:\n",
        "  weekly_pay = (standard_hours_week * hourly_rate) + (extra_hours_week * (hourly_rate + overtime_rate))\n",
        "else:\n",
        "  weekly_pay = worked_hours_week * hourly_rate\n",
        "monthly_income = weekly_pay * 4\n",
        "annual_income = weekly_pay * 52\n",
        "print(f\"Weekly Pay: Rs{weekly_pay}\")\n",
        "print(f\"Monthly Income: Rs{monthly_income}\")\n",
        "print(f\"Annual Income: Rs{annual_income}\")\n",
        "\n"
      ]
    },
    {
      "cell_type": "markdown",
      "source": [
        "Electricity Bill"
      ],
      "metadata": {
        "id": "JGJsiGLvG8q7"
      }
    },
    {
      "cell_type": "code",
      "source": [
        "def calculate_base_bill(units):\n",
        "    if units <= 100:\n",
        "        return units * 0.50\n",
        "    elif units <= 200:\n",
        "        return (100 * 0.50) + ((units - 100) * 0.75)\n",
        "    elif units <= 300:\n",
        "        return (100 * 0.50) + (100 * 0.75) + ((units - 200) * 1.20)\n",
        "    else:\n",
        "        return (100 * 0.50) + (100 * 0.75) + (100 * 1.20) + ((units - 300) * 1.50)\n",
        "\n",
        "def calculate_bill(units, user_type):\n",
        "    base_cost = calculate_base_bill(units)\n",
        "    user_type = user_type.lower()\n",
        "\n",
        "    if user_type == \"household\":\n",
        "        return base_cost\n",
        "    elif user_type == \"commercial\":\n",
        "        return base_cost * 2\n",
        "    elif user_type == \"industrial\":\n",
        "        return base_cost * 3\n",
        "    elif user_type == \"government\":\n",
        "        return base_cost * 1.5\n",
        "    else:\n",
        "        return -1\n",
        "num_users = int(input(\"Enter number of users: \"))\n",
        "\n",
        "for i in range(num_users):\n",
        "    print(f\"\\nUser {i+1}\")\n",
        "    units = int(input(\"Enter units consumed: \"))\n",
        "    user_type = input(\"Enter user type (household/commercial/industrial/government): \")\n",
        "\n",
        "    total_bill = calculate_bill(units, user_type)\n",
        "\n",
        "    if total_bill == -1:\n",
        "        print(\"Invalid user type. Please enter household, commercial, industrial, or government.\")\n",
        "    else:\n",
        "        print(f\"User Type: {user_type.capitalize()}\")\n",
        "        print(f\"Units Consumed: {units}\")\n",
        "        print(f\"Total Electricity Bill: ₹{total_bill:.2f}\")\n"
      ],
      "metadata": {
        "colab": {
          "base_uri": "https://localhost:8080/"
        },
        "id": "IxOlKUbY9qS-",
        "outputId": "e73c8edb-5aff-4b67-b6f0-6e95fd04f760"
      },
      "execution_count": 11,
      "outputs": [
        {
          "output_type": "stream",
          "name": "stdout",
          "text": [
            "Enter number of users: 2\n",
            "\n",
            "User 1\n",
            "Enter units consumed: 106\n",
            "Enter user type (household/commercial/industrial/government): household\n",
            "User Type: Household\n",
            "Units Consumed: 106\n",
            "Total Electricity Bill: ₹54.50\n",
            "\n",
            "User 2\n",
            "Enter units consumed: 200\n",
            "Enter user type (household/commercial/industrial/government): government\n",
            "User Type: Government\n",
            "Units Consumed: 200\n",
            "Total Electricity Bill: ₹187.50\n"
          ]
        }
      ]
    },
    {
      "cell_type": "markdown",
      "source": [
        "Quiz"
      ],
      "metadata": {
        "id": "lKwANna-HG31"
      }
    },
    {
      "cell_type": "code",
      "source": [
        "class QuizBase:\n",
        "    def __init__(self):\n",
        "        self.questions = {\n",
        "            \"What does CSV stand for in data files? \": \"comma separated values\",\n",
        "            \"Which library is used for data analysis in Python? \": \"pandas\",\n",
        "            \"Which algorithm is used for classification problems? \": \"logistic regression\",\n",
        "            \"What does NaN stand for in data? \": \"not a number\",\n",
        "            \"Which language is widely used in data science? \": \"python\"\n",
        "        }\n",
        "        self.score = 0\n",
        "\n",
        "    def ask_questions(self):\n",
        "        for question, correct_answer in self.questions.items():\n",
        "            user_answer = input(question).strip().lower()\n",
        "            if user_answer == correct_answer:\n",
        "                self.score += 2\n",
        "                print(\" Correct! +2\")\n",
        "            else:\n",
        "                self.score -= 1\n",
        "                print(\" Wrong! -1\")\n",
        "\n",
        "\n",
        "class DataScienceQuiz(QuizBase):\n",
        "    def __init__(self):\n",
        "        super().__init__()\n",
        "\n",
        "    def start_quiz(self):\n",
        "        print(\" Welcome to the Data Science Quiz!\")\n",
        "        print(\"Each correct answer gives +2, each wrong gives -1.\\n\")\n",
        "        self.ask_questions()\n",
        "        print(\"\\n Quiz Over!\")\n",
        "        print(f\"Your Total Score: {self.score} out of 10\")\n",
        "\n",
        "\n",
        "quiz = DataScienceQuiz()\n",
        "quiz.start_quiz()\n"
      ],
      "metadata": {
        "colab": {
          "base_uri": "https://localhost:8080/"
        },
        "id": "BWkdXOTrCz3P",
        "outputId": "259e5523-0cc0-44e5-b185-4653f89c21c6"
      },
      "execution_count": 9,
      "outputs": [
        {
          "output_type": "stream",
          "name": "stdout",
          "text": [
            " Welcome to the Data Science Quiz!\n",
            "Each correct answer gives +2, each wrong gives -1.\n",
            "\n",
            "What does CSV stand for in data files? no\n",
            " Wrong! -1\n",
            "Which library is used for data analysis in Python? yes\n",
            " Wrong! -1\n",
            "Which algorithm is used for classification problems? no\n",
            " Wrong! -1\n",
            "What does NaN stand for in data? yes\n",
            " Wrong! -1\n",
            "Which language is widely used in data science? absolutely\n",
            " Wrong! -1\n",
            "\n",
            " Quiz Over!\n",
            "Your Total Score: -5 out of 10\n"
          ]
        }
      ]
    },
    {
      "cell_type": "markdown",
      "source": [
        "salary"
      ],
      "metadata": {
        "id": "VyFCtOlxJe1W"
      }
    },
    {
      "cell_type": "code",
      "source": [
        "class Employee:\n",
        "    def __init__(self, name, basic_salary):\n",
        "        self.name = name\n",
        "        self.basic = basic_salary\n",
        "\n",
        "\n",
        "class SalaryCalculator(Employee):\n",
        "\n",
        "    def calculate_allowances(self):\n",
        "        da = self.basic * 0.20\n",
        "        hra = self.basic * 0.10\n",
        "        ta = self.basic * 0.075\n",
        "        return da, hra, ta\n",
        "\n",
        "    def calculate_deductions(self):\n",
        "        pf = self.basic * 0.12\n",
        "        emi = self.basic * 0.02\n",
        "        return pf, emi\n",
        "\n",
        "    def calculate_salary(self):\n",
        "        da, hra, ta = self.calculate_allowances()\n",
        "        pf, emi = self.calculate_deductions()\n",
        "        gross_salary = self.basic + da + hra + ta\n",
        "        net_salary = gross_salary - (pf + emi)\n",
        "        self.display_salary(gross_salary, net_salary)\n",
        "\n",
        "    def display_salary(self, gross, net):\n",
        "        print(f\"\\nEmployee Name   : {self.name}\")\n",
        "        print(f\"Basic Salary    : ₹{self.basic:.2f}\")\n",
        "        print(f\"Gross Salary    : ₹{gross:.2f}\")\n",
        "        print(f\"Net Salary      : ₹{net:.2f}\")\n",
        "        print(\"-\" * 30)\n",
        "num_employees = int(input(\"Enter number of employees: \"))\n",
        "\n",
        "for i in range(num_employees):\n",
        "    print(f\"\\nEmployee {i + 1}\")\n",
        "    name = input(\"Enter employee name: \")\n",
        "    basic_salary = float(input(\"Enter basic salary: ₹\"))\n",
        "\n",
        "    emp = SalaryCalculator(name, basic_salary)\n",
        "    emp.calculate_salary()\n",
        "\n"
      ],
      "metadata": {
        "colab": {
          "base_uri": "https://localhost:8080/"
        },
        "id": "1fbNavXwJZ9K",
        "outputId": "de95a387-94e3-4a56-90f5-db4bb8a55954"
      },
      "execution_count": 13,
      "outputs": [
        {
          "output_type": "stream",
          "name": "stdout",
          "text": [
            "Enter number of employees: 1\n",
            "\n",
            "Employee 1\n",
            "Enter employee name: kiki\n",
            "Enter basic salary: ₹5000\n",
            "\n",
            "Employee Name   : kiki\n",
            "Basic Salary    : ₹5000.00\n",
            "Gross Salary    : ₹6875.00\n",
            "Net Salary      : ₹6175.00\n",
            "------------------------------\n"
          ]
        }
      ]
    }
  ]
}